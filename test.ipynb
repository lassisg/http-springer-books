{
 "cells": [
  {
   "cell_type": "code",
   "execution_count": 1,
   "metadata": {},
   "outputs": [],
   "source": [
    "import os\n",
    "import pandas as pd"
   ]
  },
  {
   "cell_type": "code",
   "execution_count": 4,
   "metadata": {},
   "outputs": [
    {
     "output_type": "execute_result",
     "data": {
      "text/plain": "                                  Book Title  \\\n0          Fundamentals of Power Electronics   \n1                Handbook of the Life Course   \n2                          All of Statistics   \n3  Social Anxiety and Social Phobia in Youth   \n4                       Discrete Mathematics   \n\n                                              Author        Edition  \\\n0             Robert W. Erickson, Dragan\\nMaksimovic  2nd ed.\\n2001   \n1           Jeylan T. Mortimer, Michael J.\\nShanahan           2003   \n2                                    Larry Wasserman           2004   \n3                                Christopher Kearney           2005   \n4  László Lovász, József Pelikán, Katalin\\nVeszte...           2003   \n\n                                             OpenURL  \n0  http://link.springer.com/openurl?genre=book&is...  \n1  http://link.springer.com/openurl?genre=book&is...  \n2  http://link.springer.com/openurl?genre=book&is...  \n3  http://link.springer.com/openurl?genre=book&is...  \n4  http://link.springer.com/openurl?genre=book&is...  ",
      "text/html": "<div>\n<style scoped>\n    .dataframe tbody tr th:only-of-type {\n        vertical-align: middle;\n    }\n\n    .dataframe tbody tr th {\n        vertical-align: top;\n    }\n\n    .dataframe thead th {\n        text-align: right;\n    }\n</style>\n<table border=\"1\" class=\"dataframe\">\n  <thead>\n    <tr style=\"text-align: right;\">\n      <th></th>\n      <th>Book Title</th>\n      <th>Author</th>\n      <th>Edition</th>\n      <th>OpenURL</th>\n    </tr>\n  </thead>\n  <tbody>\n    <tr>\n      <th>0</th>\n      <td>Fundamentals of Power Electronics</td>\n      <td>Robert W. Erickson, Dragan\\nMaksimovic</td>\n      <td>2nd ed.\\n2001</td>\n      <td>http://link.springer.com/openurl?genre=book&amp;is...</td>\n    </tr>\n    <tr>\n      <th>1</th>\n      <td>Handbook of the Life Course</td>\n      <td>Jeylan T. Mortimer, Michael J.\\nShanahan</td>\n      <td>2003</td>\n      <td>http://link.springer.com/openurl?genre=book&amp;is...</td>\n    </tr>\n    <tr>\n      <th>2</th>\n      <td>All of Statistics</td>\n      <td>Larry Wasserman</td>\n      <td>2004</td>\n      <td>http://link.springer.com/openurl?genre=book&amp;is...</td>\n    </tr>\n    <tr>\n      <th>3</th>\n      <td>Social Anxiety and Social Phobia in Youth</td>\n      <td>Christopher Kearney</td>\n      <td>2005</td>\n      <td>http://link.springer.com/openurl?genre=book&amp;is...</td>\n    </tr>\n    <tr>\n      <th>4</th>\n      <td>Discrete Mathematics</td>\n      <td>László Lovász, József Pelikán, Katalin\\nVeszte...</td>\n      <td>2003</td>\n      <td>http://link.springer.com/openurl?genre=book&amp;is...</td>\n    </tr>\n  </tbody>\n</table>\n</div>"
     },
     "metadata": {},
     "execution_count": 4
    }
   ],
   "source": [
    "file_path_from = os.path.join(os.path.curdir, 'Springer_Ebooks.xlsx')\n",
    "\n",
    "book_list = pd.read_excel(file_path_from)\n",
    "book_list.head()"
   ]
  },
  {
   "cell_type": "code",
   "execution_count": 6,
   "metadata": {},
   "outputs": [
    {
     "output_type": "execute_result",
     "data": {
      "text/plain": "0      http://link.springer.com/openurl?genre=book&is...\n1      http://link.springer.com/openurl?genre=book&is...\n2      http://link.springer.com/openurl?genre=book&is...\n3      http://link.springer.com/openurl?genre=book&is...\n4      http://link.springer.com/openurl?genre=book&is...\n                             ...                        \n403    http://link.springer.com/openurl?genre=book&is...\n404    http://link.springer.com/openurl?genre=book&is...\n405    http://link.springer.com/openurl?genre=book&is...\n406    http://link.springer.com/openurl?genre=book&is...\n407    http://link.springer.com/openurl?genre=book&is...\nName: OpenURL, Length: 408, dtype: object"
     },
     "metadata": {},
     "execution_count": 6
    }
   ],
   "source": [
    "book_list.OpenURL"
   ]
  },
  {
   "cell_type": "code",
   "execution_count": 10,
   "metadata": {},
   "outputs": [
    {
     "output_type": "error",
     "ename": "AttributeError",
     "evalue": "'tuple' object has no attribute 'OpenURL'",
     "traceback": [
      "\u001b[1;31m---------------------------------------------------------------------------\u001b[0m",
      "\u001b[1;31mAttributeError\u001b[0m                            Traceback (most recent call last)",
      "\u001b[1;32m<ipython-input-10-61792b5d1540>\u001b[0m in \u001b[0;36m<module>\u001b[1;34m\u001b[0m\n\u001b[0;32m      1\u001b[0m \u001b[0mlinks\u001b[0m \u001b[1;33m=\u001b[0m \u001b[1;33m[\u001b[0m\u001b[1;33m]\u001b[0m\u001b[1;33m\u001b[0m\u001b[1;33m\u001b[0m\u001b[0m\n\u001b[0;32m      2\u001b[0m \u001b[1;32mfor\u001b[0m \u001b[0mbook\u001b[0m \u001b[1;32min\u001b[0m \u001b[0mbook_list\u001b[0m\u001b[1;33m.\u001b[0m\u001b[0miterrows\u001b[0m\u001b[1;33m(\u001b[0m\u001b[1;33m)\u001b[0m\u001b[1;33m:\u001b[0m\u001b[1;33m\u001b[0m\u001b[1;33m\u001b[0m\u001b[0m\n\u001b[1;32m----> 3\u001b[1;33m     \u001b[0mlinks\u001b[0m \u001b[1;33m=\u001b[0m \u001b[0mlinks\u001b[0m \u001b[1;33m+\u001b[0m \u001b[0mbook\u001b[0m\u001b[1;33m.\u001b[0m\u001b[0mOpenURL\u001b[0m\u001b[1;33m\u001b[0m\u001b[1;33m\u001b[0m\u001b[0m\n\u001b[0m",
      "\u001b[1;31mAttributeError\u001b[0m: 'tuple' object has no attribute 'OpenURL'"
     ]
    }
   ],
   "source": [
    "\n",
    "\n",
    "links = []\n",
    "for book in book_list.iterrows():\n",
    "    links = links + book.OpenURL"
   ]
  },
  {
   "cell_type": "code",
   "execution_count": null,
   "metadata": {},
   "outputs": [],
   "source": [
    "pg_data"
   ]
  },
  {
   "cell_type": "code",
   "execution_count": null,
   "metadata": {},
   "outputs": [],
   "source": [
    "len(pg_data)"
   ]
  },
  {
   "cell_type": "code",
   "execution_count": null,
   "metadata": {},
   "outputs": [],
   "source": [
    "pd_books = pd.DataFrame"
   ]
  },
  {
   "cell_type": "code",
   "execution_count": null,
   "metadata": {},
   "outputs": [],
   "source": [
    "type(pg_data[0])"
   ]
  },
  {
   "cell_type": "code",
   "execution_count": null,
   "metadata": {},
   "outputs": [],
   "source": [
    "len(pg_data[0])"
   ]
  },
  {
   "cell_type": "code",
   "execution_count": null,
   "metadata": {},
   "outputs": [],
   "source": [
    "pg_data[0].columns()"
   ]
  },
  {
   "cell_type": "code",
   "execution_count": null,
   "metadata": {},
   "outputs": [],
   "source": [
    "pd.read_excel('Springer_Ebooks.xlsx')"
   ]
  },
  {
   "cell_type": "code",
   "execution_count": null,
   "metadata": {},
   "outputs": [],
   "source": [
    "pd_books = pd.DataFrame.append(pd_books,pg_data[0])\n",
    "pd_books.head()"
   ]
  },
  {
   "cell_type": "code",
   "execution_count": null,
   "metadata": {},
   "outputs": [],
   "source": [
    "if pg_data:\n",
    "    for page in range(len(pg_data)):\n",
    "        pd_books = pd_books.append(pg_data[page])\n",
    "\n",
    "    print(pd_books.head())"
   ]
  }
 ],
 "metadata": {
  "language_info": {
   "codemirror_mode": {
    "name": "ipython",
    "version": 3
   },
   "file_extension": ".py",
   "mimetype": "text/x-python",
   "name": "python",
   "nbconvert_exporter": "python",
   "pygments_lexer": "ipython3",
   "version": "3.8.2-final"
  },
  "orig_nbformat": 2,
  "kernelspec": {
   "name": "python38264bithttpspringerbookslr97tyc8py38venvbec7226d0aa946b9a5afd36ef5903f6f",
   "display_name": "Python 3.8.2 64-bit ('http-springer-books-LR97tyC8-py3.8': venv)"
  }
 },
 "nbformat": 4,
 "nbformat_minor": 2
}